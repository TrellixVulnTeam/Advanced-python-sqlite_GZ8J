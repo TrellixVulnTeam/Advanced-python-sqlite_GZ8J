{
 "cells": [
  {
   "cell_type": "code",
   "execution_count": 1,
   "metadata": {
    "collapsed": true
   },
   "outputs": [],
   "source": [
    "import sqlite3\n",
    "conn = sqlite3.connect('machine_learning.db')\n",
    "current = conn.cursor()\n"
   ]
  },
  {
   "cell_type": "code",
   "execution_count": 3,
   "metadata": {
    "pycharm": {
     "name": "#%%\n"
    }
   },
   "outputs": [
    {
     "data": {
      "text/plain": [
       "<sqlite3.Cursor at 0x7fd7dc6ce730>"
      ]
     },
     "execution_count": 3,
     "metadata": {},
     "output_type": "execute_result"
    }
   ],
   "source": [
    "# create table students\n",
    "current.execute('''CREATE TABLE students\n",
    "(id real ,Fname text,Lname text,Country text,Continent text,Course text)''')"
   ]
  },
  {
   "cell_type": "code",
   "execution_count": 5,
   "metadata": {
    "pycharm": {
     "name": "#%%\n"
    }
   },
   "outputs": [
    {
     "data": {
      "text/plain": [
       "<sqlite3.Cursor at 0x7fd7dc6ce730>"
      ]
     },
     "execution_count": 5,
     "metadata": {},
     "output_type": "execute_result"
    }
   ],
   "source": [
    " # create courses table\n",
    "current.execute('''CREATE TABLE courses\n",
    "(id real ,CourseName text)''')"
   ]
  },
  {
   "cell_type": "code",
   "execution_count": 8,
   "metadata": {
    "pycharm": {
     "name": "#%%\n"
    }
   },
   "outputs": [
    {
     "ename": "OperationalError",
     "evalue": "near \".\": syntax error",
     "output_type": "error",
     "traceback": [
      "\u001b[0;31m---------------------------------------------------------------------------\u001b[0m",
      "\u001b[0;31mOperationalError\u001b[0m                          Traceback (most recent call last)",
      "\u001b[0;32m/tmp/ipykernel_25241/2748719274.py\u001b[0m in \u001b[0;36m<module>\u001b[0;34m\u001b[0m\n\u001b[1;32m      8\u001b[0m \u001b[0;34m(\u001b[0m\u001b[0;36m6\u001b[0m\u001b[0;34m,\u001b[0m \u001b[0;34m'George Ndede'\u001b[0m\u001b[0;34m,\u001b[0m \u001b[0;34m'USA'\u001b[0m\u001b[0;34m,\u001b[0m \u001b[0;34m'Dallas'\u001b[0m\u001b[0;34m,\u001b[0m \u001b[0;34m'N. America'\u001b[0m\u001b[0;34m,\u001b[0m \u001b[0;34m'Artificial Intelligence'\u001b[0m\u001b[0;34m)\u001b[0m\u001b[0;34m,\u001b[0m\u001b[0;34m\u001b[0m\u001b[0;34m\u001b[0m\u001b[0m\n\u001b[1;32m      9\u001b[0m ]\n\u001b[0;32m---> 10\u001b[0;31m \u001b[0mcurrent\u001b[0m\u001b[0;34m.\u001b[0m\u001b[0mexecutemany\u001b[0m\u001b[0;34m(\u001b[0m\u001b[0;34m\"insert into student values(?,?,?.?,?,?,?);\"\u001b[0m\u001b[0;34m,\u001b[0m\u001b[0mstudents\u001b[0m\u001b[0;34m)\u001b[0m\u001b[0;34m\u001b[0m\u001b[0;34m\u001b[0m\u001b[0m\n\u001b[0m",
      "\u001b[0;31mOperationalError\u001b[0m: near \".\": syntax error"
     ]
    }
   ],
   "source": [
    "# insert data into students table\n",
    "students = [\n",
    " (1, 'Nicholas' 'Okello', 'Kenya', 'Nairobi', 'Africa', 'Advanced Python'),\n",
    "(3, 'Tim Kabugi', 'Kenya', 'Nairobi', 'Africa', 'Advanced Python'),\n",
    "(3, 'John Weru', 'Kenya', 'Nairobi', 'Africa', 'Advanced Python'),\n",
    "(4, 'Darik Olal', 'Kenya', 'Nairobi', 'Africa', 'Advanced Python'),\n",
    "(5, 'Esther Wambui', 'Kenya', 'Nairobi', 'Africa', 'Machine Learning'),\n",
    "(6, 'George Ndede', 'USA', 'Dallas', 'N. America', 'Artificial Intelligence'),\n",
    "]\n",
    "current.executemany(\"insert into student values(?,?,?.?,?,?,?);\",students)"
   ]
  },
  {
   "cell_type": "code",
   "execution_count": null,
   "metadata": {},
   "outputs": [],
   "source": []
  }
 ],
 "metadata": {
  "kernelspec": {
   "display_name": "Python 3 (ipykernel)",
   "language": "python",
   "name": "python3"
  },
  "language_info": {
   "codemirror_mode": {
    "name": "ipython",
    "version": 3
   },
   "file_extension": ".py",
   "mimetype": "text/x-python",
   "name": "python",
   "nbconvert_exporter": "python",
   "pygments_lexer": "ipython3",
   "version": "3.8.10"
  }
 },
 "nbformat": 4,
 "nbformat_minor": 1
}
