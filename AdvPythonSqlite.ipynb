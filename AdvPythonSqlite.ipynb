{
 "cells": [
  {
   "cell_type": "code",
   "execution_count": 1,
   "metadata": {
    "collapsed": true
   },
   "outputs": [],
   "source": [
    "import sqlite3\n",
    "conn = sqlite3.connect('machine_learning.db')\n",
    "current = conn.cursor()\n"
   ]
  },
  {
   "cell_type": "code",
   "execution_count": 8,
   "outputs": [
    {
     "ename": "OperationalError",
     "evalue": "table students already exists",
     "output_type": "error",
     "traceback": [
      "\u001B[0;31m---------------------------------------------------------------------------\u001B[0m",
      "\u001B[0;31mOperationalError\u001B[0m                          Traceback (most recent call last)",
      "\u001B[0;32m/tmp/ipykernel_29478/519864971.py\u001B[0m in \u001B[0;36m<module>\u001B[0;34m\u001B[0m\n\u001B[1;32m      1\u001B[0m \u001B[0;31m# create table students\u001B[0m\u001B[0;34m\u001B[0m\u001B[0;34m\u001B[0m\u001B[0;34m\u001B[0m\u001B[0m\n\u001B[0;32m----> 2\u001B[0;31m current.execute('''CREATE TABLE students\n\u001B[0m\u001B[1;32m      3\u001B[0m (id INTEGER NOT NULL PRIMARY KEY AUTOINCREMENT ,\n\u001B[1;32m      4\u001B[0m \u001B[0mFname\u001B[0m \u001B[0mtext\u001B[0m\u001B[0;34m,\u001B[0m\u001B[0mCountry\u001B[0m \u001B[0mtext\u001B[0m\u001B[0;34m,\u001B[0m\u001B[0mCity\u001B[0m \u001B[0mtext\u001B[0m\u001B[0;34m,\u001B[0m\u001B[0mContinent\u001B[0m \u001B[0mtext\u001B[0m\u001B[0;34m,\u001B[0m\u001B[0mCourse\u001B[0m \u001B[0mtext\u001B[0m\u001B[0;34m,\u001B[0m\u001B[0;34m\u001B[0m\u001B[0;34m\u001B[0m\u001B[0m\n\u001B[1;32m      5\u001B[0m )''')\n",
      "\u001B[0;31mOperationalError\u001B[0m: table students already exists"
     ]
    }
   ],
   "source": [
    "# create table students\n",
    "current.execute('''CREATE TABLE students\n",
    "(id INTEGER NOT NULL PRIMARY KEY AUTOINCREMENT ,\n",
    "Fname text,Country text,City text,Continent text,Course text\n",
    ")''')"
   ],
   "metadata": {
    "collapsed": false,
    "pycharm": {
     "name": "#%%\n"
    }
   }
  },
  {
   "cell_type": "code",
   "execution_count": null,
   "outputs": [],
   "source": [
    " # create courses table\n",
    "current.execute('''CREATE TABLE courses\n",
    "(id INTEGER NOT NULL PRIMARY KEY AUTOINCREMENT ,\n",
    "CourseName text)''')"
   ],
   "metadata": {
    "collapsed": false,
    "pycharm": {
     "name": "#%%\n"
    }
   }
  },
  {
   "cell_type": "code",
   "execution_count": null,
   "outputs": [],
   "source": [
    "# insert data into students table\n",
    "student_data = [\n",
    " (1, 'Nicholas Okello', 'Kenya', 'Nairobi', 'Africa', 'Advanced Python'),\n",
    "(2, 'Tim Kabugi', 'Kenya', 'Nairobi', 'Africa', 'Advanced Python'),\n",
    "(3, 'John Weru', 'Kenya', 'Nairobi', 'Africa', 'Advanced Python'),\n",
    "(4, 'Darik Olal', 'Kenya', 'Nairobi', 'Africa', 'Advanced Python'),\n",
    "(5, 'Esther Wambui', 'Kenya', 'Nairobi', 'Africa', 'Machine Learning'),\n",
    "(6, 'George Ndede', 'USA', 'Dallas', 'N. America', 'Artificial Intelligence')\n",
    "]\n",
    "current.executemany(\"insert into students values(?,?,?,?,?,?);\",student_data)"
   ],
   "metadata": {
    "collapsed": false,
    "pycharm": {
     "name": "#%%\n"
    }
   }
  },
  {
   "cell_type": "code",
   "execution_count": null,
   "outputs": [],
   "source": [
    "# insert course data\n",
    "course_data = [\n",
    " (1, 'Advanced Python'),\n",
    "(2, 'Machine Learning'),\n",
    "(3, 'Introduction Data Science'),\n",
    "(4, 'Artificial Intelligence'),\n",
    "(5, 'Introduction Python'),\n",
    "(6, 'Database Management'),\n",
    "(7, 'Intro to Linux Administration'),\n",
    "(8, 'Intro to AWS Foundations'),\n",
    "(9, 'Python System Administration')\n",
    "]\n",
    "current.executemany(\"insert into courses values(?,?);\",course_data)\n",
    "\n"
   ],
   "metadata": {
    "collapsed": false,
    "pycharm": {
     "name": "#%%\n"
    }
   }
  },
  {
   "cell_type": "code",
   "execution_count": null,
   "outputs": [],
   "source": [
    "# commit the data\n",
    "conn.commit()"
   ],
   "metadata": {
    "collapsed": false,
    "pycharm": {
     "name": "#%%\n"
    }
   }
  },
  {
   "cell_type": "code",
   "execution_count": 17,
   "outputs": [
    {
     "name": "stdout",
     "output_type": "stream",
     "text": [
      "(1, 'Nicholas Okello', 'Kenya', 'Nairobi', 'Africa', 'Advanced Python', 1, 'Advanced Python')\n",
      "(2, 'Tim Kabugi', 'Kenya', 'Nairobi', 'Africa', 'Advanced Python', 1, 'Advanced Python')\n",
      "(3, 'John Weru', 'Kenya', 'Nairobi', 'Africa', 'Advanced Python', 1, 'Advanced Python')\n",
      "(4, 'Darik Olal', 'Kenya', 'Nairobi', 'Africa', 'Advanced Python', 1, 'Advanced Python')\n",
      "(5, 'Esther Wambui', 'Kenya', 'Nairobi', 'Africa', 'Machine Learning', 2, 'Machine Learning')\n",
      "(6, 'George Ndede', 'USA', 'Dallas', 'N. America', 'Artificial Intelligence', 4, 'Artificial Intelligence')\n"
     ]
    }
   ],
   "source": [
    "# print the two tables data\n",
    "for row in current.execute('''\n",
    "SELECT * from students as s\n",
    "INNER join courses as c on s.Course = c.CourseName;'''):\n",
    " print(row)"
   ],
   "metadata": {
    "collapsed": false,
    "pycharm": {
     "name": "#%%\n"
    }
   }
  },
  {
   "cell_type": "code",
   "execution_count": 18,
   "outputs": [
    {
     "data": {
      "text/plain": "<sqlite3.Cursor at 0x7f8e001a93b0>"
     },
     "execution_count": 18,
     "metadata": {},
     "output_type": "execute_result"
    }
   ],
   "source": [
    "# add one more course\n",
    "current.execute('''\n",
    "insert into courses\n",
    "                values(10,'Introduction to Statistics')\n",
    "''')\n",
    "conn.commit()"
   ],
   "metadata": {
    "collapsed": false,
    "pycharm": {
     "name": "#%%\n"
    }
   }
  },
  {
   "cell_type": "code",
   "execution_count": 19,
   "outputs": [
    {
     "data": {
      "text/plain": "<sqlite3.Cursor at 0x7f8e001a93b0>"
     },
     "execution_count": 19,
     "metadata": {},
     "output_type": "execute_result"
    }
   ],
   "source": [
    "# update course no 8\n",
    "current.execute('''\n",
    "update courses set CourseName ='AWS Foundations' WHERE id =8;\n",
    "''')\n",
    "conn.commit()"
   ],
   "metadata": {
    "collapsed": false,
    "pycharm": {
     "name": "#%%\n"
    }
   }
  },
  {
   "cell_type": "code",
   "execution_count": 20,
   "outputs": [],
   "source": [
    "# delete course no 6\n",
    "current.execute('''\n",
    "DELETE from courses WHERE id = 6;\n",
    "''')\n",
    "conn.commit()\n"
   ],
   "metadata": {
    "collapsed": false,
    "pycharm": {
     "name": "#%%\n"
    }
   }
  },
  {
   "cell_type": "code",
   "execution_count": 21,
   "outputs": [],
   "source": [
    "# close the db connection\n",
    "conn.close()\n"
   ],
   "metadata": {
    "collapsed": false,
    "pycharm": {
     "name": "#%%\n"
    }
   }
  }
 ],
 "metadata": {
  "kernelspec": {
   "display_name": "Python 3",
   "language": "python",
   "name": "python3"
  },
  "language_info": {
   "codemirror_mode": {
    "name": "ipython",
    "version": 2
   },
   "file_extension": ".py",
   "mimetype": "text/x-python",
   "name": "python",
   "nbconvert_exporter": "python",
   "pygments_lexer": "ipython2",
   "version": "2.7.6"
  }
 },
 "nbformat": 4,
 "nbformat_minor": 0
}